{
  "cells": [
    {
      "cell_type": "markdown",
      "metadata": {},
      "source": [
        "\n# Run GroupLasso and GroupLasso CV for structured sparse recovery\n\nThe example runs the GroupLasso scikit-learn like estimators.\n"
      ]
    },
    {
      "cell_type": "code",
      "execution_count": null,
      "metadata": {
        "collapsed": false
      },
      "outputs": [],
      "source": [
        "import numpy as np\nimport matplotlib.pyplot as plt\n\nfrom celer import GroupLassoCV, LassoCV\nfrom celer.datasets import make_correlated_data\nfrom celer.plot_utils import configure_plt\n\nprint(__doc__)\nconfigure_plt(fontsize=16)\n\n# Generating X, y, and true regression coefs with 4 groups of 5 non-zero values\n\nn_samples, n_features = 100, 50\n\nw_true = np.zeros(n_features)\nw_true[:5] = 1\nw_true[10:15] = 1\nw_true[30:35] = -1\nw_true[45:] = 1\nX, y, w_true = make_correlated_data(\n    n_samples, n_features, w_true=w_true, snr=5, random_state=0)"
      ]
    },
    {
      "cell_type": "markdown",
      "metadata": {},
      "source": [
        "Get group Lasso's optimal alpha for prediction by cross validation\n\n"
      ]
    },
    {
      "cell_type": "code",
      "execution_count": null,
      "metadata": {
        "collapsed": false
      },
      "outputs": [],
      "source": [
        "groups = 5  # groups are contiguous and of size 5\n# irregular groups are also supported,\ngroup_lasso = GroupLassoCV(groups=groups)\ngroup_lasso.fit(X, y)\n\nprint(\"Estimated regularization parameter alpha: %s\" % group_lasso.alpha_)\n\nfig = plt.figure(figsize=(6, 3), constrained_layout=True)\nplt.semilogx(group_lasso.alphas_, group_lasso.mse_path_, ':')\nplt.semilogx(group_lasso.alphas_, group_lasso.mse_path_.mean(axis=-1), 'k',\n             label='Average across the folds', linewidth=2)\nplt.axvline(group_lasso.alpha_, linestyle='--', color='k',\n            label='alpha: CV estimate')\n\nplt.legend()\n\nplt.xlabel(r'$\\alpha$')\nplt.ylabel('Mean square prediction error')\nplt.show(block=False)\n\n\nlasso = LassoCV().fit(X, y)"
      ]
    },
    {
      "cell_type": "markdown",
      "metadata": {},
      "source": [
        "Show optimal regression vector for prediction, obtained by cross validation\n\n"
      ]
    },
    {
      "cell_type": "code",
      "execution_count": null,
      "metadata": {
        "collapsed": false
      },
      "outputs": [],
      "source": [
        "fig = plt.figure(figsize=(8, 3), constrained_layout=True)\nm, s, _ = plt.stem(np.where(w_true)[0], w_true[w_true != 0],\n                   label=r\"true regression coefficients\")\nlabels = [\"LassoCV-estimated regression coefficients\",\n          \"GroupLassoCV-estimated regression coefficients\"]\ncolors = [u'#ff7f0e', u'#2ca02c']\n\nfor w, label, color in zip([lasso.coef_, group_lasso.coef_], labels, colors):\n    m, s, _ = plt.stem(np.where(w)[0], w[w != 0], label=label, markerfmt='x')\n    plt.setp([m, s], color=color)\nplt.xlabel(\"feature index\")\nplt.legend(fontsize=12)\nplt.show(block=False)"
      ]
    }
  ],
  "metadata": {
    "kernelspec": {
      "display_name": "Python 3",
      "language": "python",
      "name": "python3"
    },
    "language_info": {
      "codemirror_mode": {
        "name": "ipython",
        "version": 3
      },
      "file_extension": ".py",
      "mimetype": "text/x-python",
      "name": "python",
      "nbconvert_exporter": "python",
      "pygments_lexer": "ipython3",
      "version": "3.8.1"
    }
  },
  "nbformat": 4,
  "nbformat_minor": 0
}